{
 "cells": [
  {
   "cell_type": "code",
   "execution_count": null,
   "id": "56c95279",
   "metadata": {},
   "outputs": [],
   "source": [
    "import socket\n",
    "client=socket.socket(socket.AF_INET,socket.SOCK_STREAM)             \n",
    "host='127.0.0.1'            \n",
    "port=9994\n",
    "client.connect((host,port))  \n",
    "st=input(\"Enter: \")\n",
    "lis=st.split(' ')\n",
    "client.send(st.encode('ascii')) \n",
    "if lis[0]=='Get' or lis[0]=='get' or lis[0]=='GET':\n",
    "    rec=client.recv(2048)\n",
    "    print('MAC Address:',rec.decode('ascii'))\n",
    "else:\n",
    "    rec=client.recv(2048)\n",
    "    print(rec.decode('ascii'))\n",
    "client.close()\n"
   ]
  },
  {
   "cell_type": "code",
   "execution_count": 15,
   "id": "5845d02b",
   "metadata": {},
   "outputs": [],
   "source": [
    "import socket "
   ]
  }
 ],
 "metadata": {
  "kernelspec": {
   "display_name": "Python 3 (ipykernel)",
   "language": "python",
   "name": "python3"
  },
  "language_info": {
   "codemirror_mode": {
    "name": "ipython",
    "version": 3
   },
   "file_extension": ".py",
   "mimetype": "text/x-python",
   "name": "python",
   "nbconvert_exporter": "python",
   "pygments_lexer": "ipython3",
   "version": "3.9.7"
  }
 },
 "nbformat": 4,
 "nbformat_minor": 5
}
