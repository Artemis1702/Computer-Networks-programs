{
 "cells": [
  {
   "cell_type": "code",
   "execution_count": null,
   "metadata": {},
   "outputs": [
    {
     "name": "stdout",
     "output_type": "stream",
     "text": [
      "Got a connection from ('127.0.0.1', 54299)\n"
     ]
    }
   ],
   "source": [
    "import socket                                         \n",
    "from os.path import exists,getsize\n",
    "\n",
    "server=socket.socket(socket.AF_INET,socket.SOCK_STREAM) \n",
    "host='127.0.0.1'          \n",
    "port=9992\n",
    "server.bind((host,port))                                  \n",
    "server.listen(5)                                    \n",
    "while True:\n",
    "    client,addr=server.accept()      \n",
    "    print(\"Got a connection from\",str(addr))\n",
    "    while True:\n",
    "        st=client.recv(2048).decode('ascii')\n",
    "        if st=='DWLD':\n",
    "            st1=int(str(client.recv(1024),'ascii'))\n",
    "            st2=client.recv(2048).decode('ascii')\n",
    "            if exists(st2):\n",
    "                size=getsize(st2)\n",
    "                client.send(bytes(str(size),'ascii'))\n",
    "                f=open(st2,'r')\n",
    "                mes=f.read()\n",
    "                f.close()\n",
    "                client.send(mes.encode('ascii'))\n",
    "            else:\n",
    "                size=-1\n",
    "                client.send(bytes(str(size),'ascii'))\n",
    "        elif st=='UPLD':\n",
    "            st1=int(str(client.recv(1024),'ascii'))\n",
    "            st2=client.recv(2048).decode('ascii')\n",
    "            if exists(st2):\n",
    "                size=-1\n",
    "                client.send(bytes(str(size),'ascii'))\n",
    "            else:\n",
    "                size=1\n",
    "                client.send(bytes(str(size),'ascii'))\n",
    "                f=open(st2,'w')\n",
    "                txt=client.recv(2048).decode('ascii')\n",
    "                f.write(txt)\n",
    "                f.close()\n",
    "                mes='File Created!'\n",
    "                client.send(mes.encode('ascii'))\n",
    "        elif st=='QUIT':\n",
    "            break\n",
    "    client.close()\n",
    "    "
   ]
  },
  {
   "cell_type": "code",
   "execution_count": null,
   "metadata": {
    "collapsed": true
   },
   "outputs": [],
   "source": []
  },
  {
   "cell_type": "code",
   "execution_count": null,
   "metadata": {
    "collapsed": true
   },
   "outputs": [],
   "source": []
  }
 ],
 "metadata": {
  "kernelspec": {
   "display_name": "Python 3 (ipykernel)",
   "language": "python",
   "name": "python3"
  },
  "language_info": {
   "codemirror_mode": {
    "name": "ipython",
    "version": 3
   },
   "file_extension": ".py",
   "mimetype": "text/x-python",
   "name": "python",
   "nbconvert_exporter": "python",
   "pygments_lexer": "ipython3",
   "version": "3.9.7"
  }
 },
 "nbformat": 4,
 "nbformat_minor": 2
}
