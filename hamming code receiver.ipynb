{
 "cells": [
  {
   "cell_type": "code",
   "execution_count": 5,
   "metadata": {},
   "outputs": [],
   "source": [
    "import socket \n",
    "import math"
   ]
  },
  {
   "cell_type": "code",
   "execution_count": 6,
   "metadata": {},
   "outputs": [],
   "source": [
    "#create socket object\n",
    "s = socket.socket(socket.AF_INET,socket.SOCK_STREAM)"
   ]
  },
  {
   "cell_type": "code",
   "execution_count": 7,
   "metadata": {},
   "outputs": [],
   "source": [
    "host = socket.gethostname()\n",
    "port = 9994\n",
    "s.connect((host,port))"
   ]
  },
  {
   "cell_type": "code",
   "execution_count": 8,
   "metadata": {},
   "outputs": [
    {
     "name": "stdout",
     "output_type": "stream",
     "text": [
      "Enter the dataword you want to send:11001111\n",
      "110001110100\n",
      "There is no error\n"
     ]
    }
   ],
   "source": [
    "while True:\n",
    "    num = int(input(\"Enter the dataword you want to send:\"))\n",
    "    num = str(num)  \n",
    "    s.send(num.encode('ascii'))\n",
    "    bits = s.recv(2048).decode('ascii')\n",
    "    bits = int(bits)\n",
    "    print(bits)\n",
    "    l=[int(x) for x in str(bits)]\n",
    "    log2=math.ceil(math.log10(len(l))/math.log10(2)) \n",
    "    pos=[]\n",
    "    for i in range(log2):\n",
    "        pos.append(pow(2,i))\n",
    "    error=0;\n",
    "    for i in pos:\n",
    "        rsum=0\n",
    "        j=i-1    \n",
    "        while(j<len(l)):\n",
    "            for k in range(j,j+i):\n",
    "                if k<len(l):\n",
    "                    rsum=rsum+l[k];\n",
    "            j=j+(2*i)\n",
    "        error+=i*(rsum%2)\n",
    "    if error == 0:\n",
    "        print(\"There is no error\")\n",
    "    else:\n",
    "        print(\"Error in position\",error)\n",
    "    break\n",
    "    "
   ]
  },
  {
   "cell_type": "code",
   "execution_count": null,
   "metadata": {},
   "outputs": [],
   "source": []
  }
 ],
 "metadata": {
  "kernelspec": {
   "display_name": "Python 3",
   "language": "python",
   "name": "python3"
  },
  "language_info": {
   "codemirror_mode": {
    "name": "ipython",
    "version": 3
   },
   "file_extension": ".py",
   "mimetype": "text/x-python",
   "name": "python",
   "nbconvert_exporter": "python",
   "pygments_lexer": "ipython3",
   "version": "3.8.8"
  }
 },
 "nbformat": 4,
 "nbformat_minor": 2
}
