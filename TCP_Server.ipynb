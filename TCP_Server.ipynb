{
 "cells": [
  {
   "cell_type": "code",
   "execution_count": 3,
   "id": "c3a165f0",
   "metadata": {
    "collapsed": true
   },
   "outputs": [],
   "source": [
    "import socket"
   ]
  },
  {
   "cell_type": "code",
   "execution_count": 4,
   "id": "01ee4231",
   "metadata": {
    "collapsed": true
   },
   "outputs": [],
   "source": [
    "serversocket = socket.socket(socket.AF_INET,socket.SOCK_STREAM)\n",
    "host = socket.gethostname()\n",
    "port = 9994\n",
    "serversocket.bind((host,port))"
   ]
  },
  {
   "cell_type": "code",
   "execution_count": 5,
   "id": "dddcfd4b",
   "metadata": {},
   "outputs": [
    {
     "data": {
      "text/plain": [
       "{'10.1.66.13': '00:0A', '10.1.66.53': '00:0B'}"
      ]
     },
     "execution_count": 5,
     "metadata": {},
     "output_type": "execute_result"
    }
   ],
   "source": [
    "MAC_ADD = {'192.168.127.1':'00:0C:42:A9:95:88',\n",
    "           '192.168.127.3':'10:93:E9:09:50:04',\n",
    "           '192.168.127.34':'18:B4:30:05:CA:3C',\n",
    "           '192.168.127.13':'28:CF:DA:05:5F:99',\n",
    "           '192.168.2.1':'3C:07:54:09:EC:CD'}"
   ]
  },
  {
   "cell_type": "code",
   "execution_count": 6,
   "id": "030901fc",
   "metadata": {
    "collapsed": true
   },
   "outputs": [],
   "source": [
    "serversocket.listen(5)"
   ]
  },
  {
   "cell_type": "code",
   "execution_count": null,
   "id": "61298ca5",
   "metadata": {},
   "outputs": [
    {
     "name": "stdout",
     "output_type": "stream",
     "text": [
      "Got a connection from ('10.1.66.13', 60149)\n",
      "b'et'\n"
     ]
    }
   ],
   "source": [
    "while True:\n",
    "    clientsocket,addr = serversocket.accept()\n",
    "    print(\"Got a connection from %s\"% str(addr))\n",
    "    st=clientsocket.recv(2048)\n",
    "    lis=st.decode('ascii').split(' ')\n",
    "    if lis[0]=='Get' or lis[0]=='get' or lis[0]=='GET':\n",
    "        if lis[1] in MAC_ADD.keys():\n",
    "            clientsocket.send(MAC_ADD[lis[1]].encode('ascii'))\n",
    "        else:\n",
    "            message='Not Found!'\n",
    "            clientsocket.send(message.encode('ascii'))\n",
    "    elif lis[0]=='Put' or lis[0]=='put' or lis[0]=='PUT':\n",
    "        MAC_ADD[lis[1]]=lis[2]\n",
    "        message='Updated MAC Table! Terminate Connection!'\n",
    "        clientsocket.send(message.encode('ascii'))\n",
    "        print(MAC_ADD)\n",
    "    else:\n",
    "        message='Invalid Input!'\n",
    "        clientsocket.send(message.encode('ascii'))\n",
    "    clientsocket.close()\n",
    "    print(mac.decode('ascii'))\n"
   ]
  },
  {
   "cell_type": "code",
   "execution_count": null,
   "id": "8e51c8ff",
   "metadata": {
    "collapsed": true
   },
   "outputs": [],
   "source": [
    "ipmac={'192.168.127.1':'00:0C:42:A9:95:88',\n",
    "        '192.168.127.3':'10:93:E9:09:50:04',\n",
    "        '192.168.127.34':'18:B4:30:05:CA:3C',\n",
    "        '192.168.127.13':'28:CF:DA:05:5F:99',\n",
    "        '192.168.2.1':'3C:07:54:09:EC:CD'}\n",
    "                                          \n",
    "while True:\n",
    "    client,addr=server.accept()      \n",
    "    print(\"Got a connection from %s\" % str(addr))\n",
    "    #st='Hello Client!'\n",
    "    st=client.recv(2048)\n",
    "    lis=st.decode('ascii').split(' ')\n",
    "    if lis[0]=='Get' or lis[0]=='get' or lis[0]=='GET':\n",
    "        if lis[1] in ipmac.keys():\n",
    "            client.send(ipmac[lis[1]].encode('ascii'))\n",
    "        else:\n",
    "            message='Not Found!'\n",
    "            client.send(message.encode('ascii'))\n",
    "    elif lis[0]=='Put' or lis[0]=='put' or lis[0]=='PUT':\n",
    "        ipmac[lis[1]]=lis[2]\n",
    "        message='Updated MAC Table! Terminate Connection!'\n",
    "        client.send(message.encode('ascii'))\n",
    "        print(ipmac)\n",
    "    else:\n",
    "        message='Invalid Input!'\n",
    "        client.send(message.encode('ascii'))\n",
    "    client.close()\n"
   ]
  }
 ],
 "metadata": {
  "kernelspec": {
   "display_name": "Python 3 (ipykernel)",
   "language": "python",
   "name": "python3"
  },
  "language_info": {
   "codemirror_mode": {
    "name": "ipython",
    "version": 3
   },
   "file_extension": ".py",
   "mimetype": "text/x-python",
   "name": "python",
   "nbconvert_exporter": "python",
   "pygments_lexer": "ipython3",
   "version": "3.9.7"
  }
 },
 "nbformat": 4,
 "nbformat_minor": 5
}
