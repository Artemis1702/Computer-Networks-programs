{
 "cells": [
  {
   "cell_type": "code",
   "execution_count": 1,
   "metadata": {
    "collapsed": true
   },
   "outputs": [],
   "source": [
    "def encrypt_caesar(x):\n",
    "    y = \"\"\n",
    "    for i in x:\n",
    "        n1 = ord(i)\n",
    "        if n1==88:\n",
    "            n2=65                            \n",
    "        elif n1==89:\n",
    "            n2=66\n",
    "        elif n1==90:\n",
    "            n2=67\n",
    "        else:\n",
    "            n2=n1+3\n",
    "        y+=chr(n2)\n",
    "    f=open(\"enc.txt\",\"w\")\n",
    "    f.write(y)\n",
    "    f.close()"
   ]
  },
  {
   "cell_type": "code",
   "execution_count": 2,
   "metadata": {},
   "outputs": [
    {
     "name": "stdout",
     "output_type": "stream",
     "text": [
      "Enter a string: PYTHON\n"
     ]
    }
   ],
   "source": [
    "str = input(\"Enter a string: \")\n",
    "encrypt_caesar(str)"
   ]
  },
  {
   "cell_type": "code",
   "execution_count": null,
   "metadata": {
    "collapsed": true
   },
   "outputs": [],
   "source": []
  }
 ],
 "metadata": {
  "kernelspec": {
   "display_name": "Python 3",
   "language": "python",
   "name": "python3"
  },
  "language_info": {
   "codemirror_mode": {
    "name": "ipython",
    "version": 3
   },
   "file_extension": ".py",
   "mimetype": "text/x-python",
   "name": "python",
   "nbconvert_exporter": "python",
   "pygments_lexer": "ipython3",
   "version": "3.6.3"
  }
 },
 "nbformat": 4,
 "nbformat_minor": 2
}
