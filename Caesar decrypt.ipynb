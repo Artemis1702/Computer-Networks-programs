{
 "cells": [
  {
   "cell_type": "code",
   "execution_count": 1,
   "metadata": {
    "collapsed": true
   },
   "outputs": [],
   "source": [
    "def decrypt_caesar(x):\n",
    "    y=\"\"\n",
    "    for i in x:\n",
    "        n1=ord(i)\n",
    "        if n1==65:\n",
    "            n2=88                \n",
    "        elif n1==66:\n",
    "            n2=89\n",
    "        elif n1==67:\n",
    "            n2=90\n",
    "        else:\n",
    "            n2=n1-3\n",
    "        y+=chr(n2)\n",
    "    return y"
   ]
  },
  {
   "cell_type": "code",
   "execution_count": 2,
   "metadata": {},
   "outputs": [
    {
     "data": {
      "text/plain": [
       "'PYTHON'"
      ]
     },
     "execution_count": 2,
     "metadata": {},
     "output_type": "execute_result"
    }
   ],
   "source": [
    "f=open(\"enc.txt\",\"r\")\n",
    "str = f.read()\n",
    "decrypt_caesar(str)"
   ]
  },
  {
   "cell_type": "code",
   "execution_count": null,
   "metadata": {
    "collapsed": true
   },
   "outputs": [],
   "source": []
  }
 ],
 "metadata": {
  "kernelspec": {
   "display_name": "Python 3",
   "language": "python",
   "name": "python3"
  },
  "language_info": {
   "codemirror_mode": {
    "name": "ipython",
    "version": 3
   },
   "file_extension": ".py",
   "mimetype": "text/x-python",
   "name": "python",
   "nbconvert_exporter": "python",
   "pygments_lexer": "ipython3",
   "version": "3.6.3"
  }
 },
 "nbformat": 4,
 "nbformat_minor": 2
}
