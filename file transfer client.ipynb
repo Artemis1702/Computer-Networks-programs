{
 "cells": [
  {
   "cell_type": "code",
   "execution_count": 1,
   "metadata": {},
   "outputs": [
    {
     "name": "stdout",
     "output_type": "stream",
     "text": [
      "Enter Operation: (DWLD,UPLD,QUIT): UPLD\n",
      "Enter File Name: hello.txt\n",
      "Enter Content To Be Written Into File: hello world\n",
      "File Created!\n",
      "Enter Operation: (DWLD,UPLD,QUIT): DWLD\n",
      "Enter File Name: hello.txt\n",
      "hello world\n",
      "Enter Operation: (DWLD,UPLD,QUIT): Quit\n",
      "Enter Operation: (DWLD,UPLD,QUIT): QUIT\n"
     ]
    }
   ],
   "source": [
    "import socket\n",
    "\n",
    "client=socket.socket(socket.AF_INET,socket.SOCK_STREAM) \n",
    "host='127.0.0.1'\n",
    "port=9992\n",
    "client.connect((host,port)) \n",
    "while True:     \n",
    "    x=input(\"Enter Operation: (DWLD,UPLD,QUIT): \")\n",
    "    client.send(x.encode('ascii'))\n",
    "    if x=='DWLD':\n",
    "        fl=str(8)+' '\n",
    "        fname=input(\"Enter File Name: \")\n",
    "        client.send(bytes(str(fl),'ascii'))\n",
    "        client.send(fname.encode('ascii'))\n",
    "        ret=int(str(client.recv(1024),'ascii'))\n",
    "        if ret!=-1:\n",
    "            print(client.recv(2048).decode('ascii'))\n",
    "        else:\n",
    "            print('File Does Not Exist!')\n",
    "    elif x=='UPLD':\n",
    "        fl=str(8)+' '\n",
    "        fname=input(\"Enter File Name: \")\n",
    "        client.send(bytes(str(fl),'ascii'))\n",
    "        client.send(fname.encode('ascii'))\n",
    "        ret=int(str(client.recv(1024),'ascii'))\n",
    "        if ret==-1:\n",
    "            print('File Already Exists!')\n",
    "        else:\n",
    "            txt=input(\"Enter Content To Be Written Into File: \")\n",
    "            client.send(txt.encode('ascii'))\n",
    "            print(client.recv(1024).decode('ascii'))\n",
    "    elif x=='QUIT':\n",
    "        break\n",
    "client.close()"
   ]
  },
  {
   "cell_type": "code",
   "execution_count": null,
   "metadata": {
    "collapsed": true
   },
   "outputs": [],
   "source": []
  }
 ],
 "metadata": {
  "kernelspec": {
   "display_name": "Python 3 (ipykernel)",
   "language": "python",
   "name": "python3"
  },
  "language_info": {
   "codemirror_mode": {
    "name": "ipython",
    "version": 3
   },
   "file_extension": ".py",
   "mimetype": "text/x-python",
   "name": "python",
   "nbconvert_exporter": "python",
   "pygments_lexer": "ipython3",
   "version": "3.9.7"
  }
 },
 "nbformat": 4,
 "nbformat_minor": 2
}
