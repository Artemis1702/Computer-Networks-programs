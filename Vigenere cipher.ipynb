{
 "cells": [
  {
   "cell_type": "code",
   "execution_count": 4,
   "metadata": {
    "collapsed": true
   },
   "outputs": [],
   "source": [
    "def create_key(x,key):\n",
    "    k=\"\"\n",
    "    n=0\n",
    "    for z in range(x):\n",
    "        k+=key[n]\n",
    "        n=(n+1)%len(key)\n",
    "    return k"
   ]
  },
  {
   "cell_type": "code",
   "execution_count": 5,
   "metadata": {
    "collapsed": true
   },
   "outputs": [],
   "source": [
    "def encrypt_vigenere(x,y):\n",
    "    z=\"\"\n",
    "    key=create_key(len(x),y)\n",
    "    for i in range(len(x)):\n",
    "        if(x[i].islower()):\n",
    "            e=(ord(x[i])+(ord(key[i])-97)-97)%26\n",
    "            z+=chr(e+97)\n",
    "        elif (x[i].isupper()):\n",
    "            e=(ord(x[i])+(ord(key[i])-65)-65)%26\n",
    "            z+=chr(e+65)\n",
    "        else:\n",
    "            z=x[i]\n",
    "    return z\n"
   ]
  },
  {
   "cell_type": "code",
   "execution_count": 10,
   "metadata": {
    "collapsed": true
   },
   "outputs": [],
   "source": [
    "def decrypt_vigenere(x,y):\n",
    "    z=\"\"\n",
    "    key=create_key(len(x),y)\n",
    "    for i in range(len(x)):\n",
    "        if(x[i].islower()):\n",
    "            e=(ord(x[i])-(ord(key[i])-97)-97)%26\n",
    "            z+=chr(e+97)\n",
    "        elif (x[i].isupper()):\n",
    "            e=(ord(x[i])-(ord(key[i])-65)-65)%26\n",
    "            z+=chr(e+65)\n",
    "        else:\n",
    "            z=x[i]\n",
    "    return z\n"
   ]
  },
  {
   "cell_type": "code",
   "execution_count": 11,
   "metadata": {},
   "outputs": [
    {
     "name": "stdout",
     "output_type": "stream",
     "text": [
      "LXFOPVEFRNHR ATTACKATDAWN\n"
     ]
    }
   ],
   "source": [
    "txt=\"ATTACKATDAWN\"\n",
    "k=\"LEMON\"\n",
    "en=encrypt_vigenere(txt,k)\n",
    "de=decrypt_vigenere(en,k)\n",
    "print(en,de)"
   ]
  },
  {
   "cell_type": "code",
   "execution_count": null,
   "metadata": {
    "collapsed": true
   },
   "outputs": [],
   "source": []
  }
 ],
 "metadata": {
  "kernelspec": {
   "display_name": "Python 3",
   "language": "python",
   "name": "python3"
  },
  "language_info": {
   "codemirror_mode": {
    "name": "ipython",
    "version": 3
   },
   "file_extension": ".py",
   "mimetype": "text/x-python",
   "name": "python",
   "nbconvert_exporter": "python",
   "pygments_lexer": "ipython3",
   "version": "3.6.3"
  }
 },
 "nbformat": 4,
 "nbformat_minor": 2
}
